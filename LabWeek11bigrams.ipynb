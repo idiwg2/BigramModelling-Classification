{
 "cells": [
  {
   "cell_type": "code",
   "execution_count": 13,
   "metadata": {
    "collapsed": true
   },
   "outputs": [],
   "source": [
    "import nltk\n",
    "# movie review sentences\n",
    "from nltk.corpus import sentence_polarity\n",
    "import random"
   ]
  },
  {
   "cell_type": "code",
   "execution_count": 14,
   "metadata": {
    "collapsed": true
   },
   "outputs": [],
   "source": [
    "## repeat the setup of the movie review sentences for classification\n",
    "# for each sentence(document), get its words and category (positive/negative)\n",
    "documents = [(sent, cat) for cat in sentence_polarity.categories() \n",
    "    for sent in sentence_polarity.sents(categories=cat)]\n",
    "random.shuffle(documents)"
   ]
  },
  {
   "cell_type": "code",
   "execution_count": 15,
   "metadata": {},
   "outputs": [
    {
     "name": "stdout",
     "output_type": "stream",
     "text": [
      "21401\n"
     ]
    }
   ],
   "source": [
    "# get all words from all movie_reviews and put into a frequency distribution\n",
    "#   note lowercase, but no stemming or stopwords\n",
    "all_words_list = [word for (sent,cat) in documents for word in sent]\n",
    "all_words = nltk.FreqDist(all_words_list)\n",
    "print(len(all_words))"
   ]
  },
  {
   "cell_type": "code",
   "execution_count": 16,
   "metadata": {
    "collapsed": true
   },
   "outputs": [],
   "source": [
    "# get the 1500 most frequently appearing keywords in the corpus\n",
    "word_items = all_words.most_common(1500)\n",
    "word_features = [word for (word,count) in word_items]"
   ]
  },
  {
   "cell_type": "code",
   "execution_count": 17,
   "metadata": {
    "collapsed": true
   },
   "outputs": [],
   "source": [
    "# define features (keywords) of a document for a BOW/unigram baseline\n",
    "# each feature is 'contains(keyword)' and is true or false depending\n",
    "# on whether that keyword is in the document\n",
    "def document_features(document, word_features):\n",
    "    document_words = set(document)\n",
    "    features = {}\n",
    "    for word in word_features:\n",
    "        features['contains({})'.format(word)] = (word in document_words)\n",
    "    return features"
   ]
  },
  {
   "cell_type": "code",
   "execution_count": 18,
   "metadata": {},
   "outputs": [
    {
     "data": {
      "text/plain": [
       "0.756"
      ]
     },
     "execution_count": 18,
     "metadata": {},
     "output_type": "execute_result"
    }
   ],
   "source": [
    "# get features sets for a document, including keyword features and category feature\n",
    "featuresets = [(document_features(d, word_features), c) for (d, c) in documents]\n",
    "\n",
    "# training using naive Baysian classifier, training set is 90% of data\n",
    "train_set, test_set = featuresets[1000:], featuresets[:1000]\n",
    "classifier = nltk.NaiveBayesClassifier.train(train_set)\n",
    "\n",
    "# evaluate the accuracy of the classifier\n",
    "nltk.classify.accuracy(classifier, test_set)"
   ]
  },
  {
   "cell_type": "code",
   "execution_count": 19,
   "metadata": {
    "collapsed": true
   },
   "outputs": [],
   "source": [
    "####   adding Bigram features   ####\n",
    "# set up for using bigrams\n",
    "from nltk.collocations import *\n",
    "bigram_measures = nltk.collocations.BigramAssocMeasures()"
   ]
  },
  {
   "cell_type": "code",
   "execution_count": 20,
   "metadata": {},
   "outputs": [
    {
     "name": "stdout",
     "output_type": "stream",
     "text": [
      "['nervy', 'and', 'sensitive', ',', 'it', 'taps', 'into', 'genuine', 'artistic', 'befuddlement', ',', 'and', 'at', 'the', 'same', 'time', 'presents', 'a', 'scathing', 'indictment', 'of', 'what', 'drives', 'hollywood', '.', 'dazzling', 'in', 'its', 'complexity', ',', 'disturbing', 'for', 'its', 'extraordinary', 'themes', ',', 'the', 'piano', 'teacher', 'is', 'a', 'film', 'that', 'defies', 'categorisation', '.', 'it', 'haunts', ',', 'horrifies']\n"
     ]
    }
   ],
   "source": [
    "# create the bigram finder on all the words in sequence\n",
    "print(all_words_list[:50])\n",
    "finder = BigramCollocationFinder.from_words(all_words_list)"
   ]
  },
  {
   "cell_type": "code",
   "execution_count": 21,
   "metadata": {},
   "outputs": [
    {
     "name": "stdout",
     "output_type": "stream",
     "text": [
      "[('.', '.'), ('.', 'the'), ('.', 'a'), ('of', 'the'), (',', 'but'), (',', 'and'), ('in', 'the'), ('the', 'film'), ('is', 'a'), ('.', \"it's\"), (',', 'the'), ('of', 'a'), ('to', 'the'), ('and', 'the'), ('to', 'be'), ('the', 'movie'), ('.', 'it'), ('.', 'this'), ('for', 'the'), ('it', 'is'), ('.', 'an'), ('with', 'a'), ('as', 'a'), ('in', 'a'), ('on', 'the'), ('one', 'of'), ('and', 'a'), ('this', 'is'), ('a', 'movie'), (\"it's\", 'a'), (',', 'it'), ('.', 'if'), ('with', 'the'), ('film', 'is'), ('like', 'a'), (',', 'a'), ('for', 'a'), ('it', '.'), ('the', 'most'), ('.', 'but'), ('but', 'it'), ('film', '.'), ('of', 'its'), ('movie', '.'), (',', \"it's\"), (',', 'this'), ('a', 'film'), ('as', 'the'), ('from', 'the'), ('.', 'i')]\n"
     ]
    }
   ],
   "source": [
    "# define the top 500 bigrams using the chi squared measure\n",
    "bigram_features = finder.nbest(bigram_measures.raw_freq, 500)\n",
    "print(bigram_features[:50])"
   ]
  },
  {
   "cell_type": "code",
   "execution_count": 22,
   "metadata": {},
   "outputs": [
    {
     "name": "stdout",
     "output_type": "stream",
     "text": [
      "[('Arthur', 'carefully'), ('carefully', 'rode'), ('rode', 'the'), ('the', 'brown'), ('brown', 'horse'), ('horse', 'around'), ('around', 'the'), ('the', 'castle')]\n"
     ]
    }
   ],
   "source": [
    "# examples to demonstrate the bigram feature function definition\n",
    "sent = ['Arthur','carefully','rode','the','brown','horse','around','the','castle']\n",
    "sentbigrams = list(nltk.bigrams(sent))\n",
    "print(sentbigrams)"
   ]
  },
  {
   "cell_type": "code",
   "execution_count": 23,
   "metadata": {},
   "outputs": [
    {
     "name": "stdout",
     "output_type": "stream",
     "text": [
      "True\n",
      "bigram(brown horse)\n"
     ]
    }
   ],
   "source": [
    "# for a single bigram, test if it's in the sentence bigrams and format the feature name\n",
    "bigram = ('brown','horse')\n",
    "print(bigram in sentbigrams)\n",
    "print('bigram({} {})'.format(bigram[0], bigram[1]))"
   ]
  },
  {
   "cell_type": "code",
   "execution_count": 24,
   "metadata": {
    "collapsed": true
   },
   "outputs": [],
   "source": [
    "# define features that include words as before \n",
    "# add the most frequent significant bigrams\n",
    "# this function takes the list of words in a document as an argument and returns a feature dictionary\n",
    "# it depends on the variables word_features and bigram_features\n",
    "def bigram_document_features(document, word_features, bigram_features):\n",
    "    document_words = set(document)\n",
    "    document_bigrams = nltk.bigrams(document)\n",
    "    features = {}\n",
    "    for word in word_features:\n",
    "        features['contains({})'.format(word)] = (word in document_words)\n",
    "    for bigram in bigram_features:\n",
    "        features['bigram({} {})'.format(bigram[0], bigram[1])] = (bigram in document_bigrams)    \n",
    "    return features"
   ]
  },
  {
   "cell_type": "code",
   "execution_count": 25,
   "metadata": {},
   "outputs": [
    {
     "name": "stdout",
     "output_type": "stream",
     "text": [
      "2000\n",
      "{'contains(.)': True, 'contains(the)': True, 'contains(,)': True, 'contains(a)': True, 'contains(and)': True, 'contains(of)': True, 'contains(to)': False, 'contains(is)': False, 'contains(in)': False, 'contains(that)': False, 'contains(it)': True, 'contains(as)': False, 'contains(but)': False, 'contains(with)': False, 'contains(film)': False, 'contains(this)': False, 'contains(for)': False, 'contains(its)': False, 'contains(an)': False, 'contains(movie)': False, \"contains(it's)\": False, 'contains(be)': False, 'contains(on)': False, 'contains(you)': False, 'contains(not)': False, 'contains(by)': False, 'contains(about)': False, 'contains(one)': False, 'contains(more)': False, 'contains(like)': False, 'contains(has)': False, 'contains(are)': False, 'contains(at)': True, 'contains(from)': False, 'contains(than)': False, 'contains(\")': False, 'contains(all)': False, 'contains(--)': False, 'contains(his)': False, 'contains(have)': False, 'contains(so)': False, 'contains(if)': False, 'contains(or)': False, 'contains(story)': False, 'contains(i)': False, 'contains(too)': False, 'contains(just)': False, 'contains(who)': False, 'contains(into)': True, 'contains(what)': True, 'contains(most)': False, 'contains(out)': False, 'contains(no)': False, 'contains(much)': False, 'contains(even)': False, 'contains(good)': False, 'contains(up)': False, 'contains(will)': False, 'contains(comedy)': False, 'contains(time)': True, 'contains(can)': False, 'contains(some)': False, 'contains(characters)': False, 'contains(only)': False, 'contains(little)': False, 'contains(way)': False, 'contains(their)': False, 'contains(funny)': False, 'contains(make)': False, 'contains(enough)': False, 'contains(been)': False, 'contains(very)': False, 'contains(your)': False, 'contains(never)': False, 'contains(when)': False, 'contains(makes)': False, 'contains(there)': False, 'contains(may)': False, 'contains(which)': False, 'contains(us)': False, 'contains(work)': False, 'contains(best)': False, 'contains(he)': False, 'contains(bad)': False, \"contains(doesn't)\": False, 'contains(director)': False, 'contains())': False, 'contains(?)': False, 'contains(any)': False, 'contains(()': False, 'contains(love)': False, 'contains(would)': False, 'contains(life)': False, 'contains(they)': False, 'contains(while)': False, 'contains(we)': False, 'contains(:)': False, 'contains(was)': False, \"contains(there's)\": False, 'contains(movies)': False, 'contains(well)': False, 'contains(her)': False, 'contains(new)': False, 'contains(through)': False, 'contains(could)': False, 'contains(really)': False, 'contains(something)': False, 'contains(how)': False, 'contains(made)': False, 'contains(them)': False, 'contains(does)': False, 'contains(own)': False, 'contains(performances)': False, 'contains(should)': False, 'contains(drama)': False, \"contains(that's)\": False, 'contains(many)': False, 'contains(those)': False, 'contains(look)': False, 'contains(plot)': False, 'contains(films)': False, 'contains(every)': False, 'contains(still)': False, \"contains(isn't)\": False, 'contains(see)': False, 'contains(two)': False, 'contains(nothing)': False, 'contains(people)': False, 'contains(better)': False, 'contains(long)': False, 'contains(without)': False, 'contains(other)': False, 'contains(get)': False, 'contains(fun)': False, 'contains(off)': False, 'contains(action)': False, 'contains(being)': False, 'contains(both)': False, 'contains(great)': False, 'contains(though)': False, 'contains(might)': False, 'contains(big)': False, \"contains(')\": False, 'contains(also)': False, 'contains(cast)': False, 'contains(another)': False, 'contains(do)': False, 'contains(humor)': False, 'contains(first)': False, 'contains(between)': False, 'contains(audience)': False, 'contains(kind)': False, 'contains(sense)': False, 'contains(over)': False, 'contains(such)': False, 'contains(character)': False, 'contains(ever)': False, \"contains(don't)\": False, 'contains(;)': False, 'contains(performance)': False, 'contains(feels)': False, 'contains(few)': False, 'contains(script)': False, 'contains(because)': False, 'contains(here)': False, \"contains(film's)\": False, 'contains(far)': False, 'contains(often)': False, 'contains(seems)': False, 'contains(less)': False, 'contains(thing)': False, 'contains(minutes)': False, 'contains(real)': False, 'contains(feel)': False, 'contains(thriller)': False, 'contains(tale)': False, 'contains(picture)': False, 'contains(almost)': False, 'contains(world)': False, \"contains(can't)\": False, 'contains(quite)': False, 'contains(down)': False, 'contains(documentary)': False, 'contains(interesting)': False, 'contains(yet)': False, 'contains(!)': False, 'contains(entertaining)': False, 'contains(these)': False, 'contains(rather)': False, \"contains(you're)\": False, 'contains(my)': False, 'contains(screen)': False, 'contains(end)': False, 'contains(itself)': False, 'contains(hollywood)': True, 'contains(seen)': False, 'contains(full)': False, 'contains(take)': False, 'contains(watching)': False, 'contains(ultimately)': False, 'contains(hard)': False, 'contains(go)': False, 'contains(heart)': False, 'contains(moments)': False, 'contains(romantic)': False, 'contains(comes)': False, 'contains(de)': False, 'contains(lot)': False, 'contains(despite)': False, 'contains(american)': False, 'contains(were)': False, 'contains(me)': False, 'contains(after)': False, 'contains(where)': False, 'contains(acting)': False, 'contains(before)': False, 'contains(family)': False, 'contains(then)': False, 'contains(old)': False, 'contains(had)': False, 'contains(original)': False, 'contains(find)': False, 'contains(right)': False, 'contains(gets)': False, 'contains(worth)': False, 'contains(human)': False, 'contains(same)': True, 'contains(takes)': False, 'contains(things)': False, 'contains(come)': False, 'contains(times)': False, 'contains(dialogue)': False, 'contains(man)': False, 'contains(back)': False, 'contains(scenes)': False, 'contains(watch)': False, 'contains(actors)': False, 'contains(our)': False, 'contains(material)': False, 'contains(compelling)': False, 'contains(young)': False, 'contains(once)': False, 'contains(music)': False, 'contains(years)': False, 'contains(works)': False, 'contains(think)': False, 'contains(emotional)': False, 'contains(anyone)': False, 'contains(seem)': False, 'contains(want)': False, 'contains(gives)': False, 'contains(going)': False, 'contains(know)': False, 'contains(least)': False, 'contains(say)': False, 'contains(part)': False, 'contains(piece)': False, 'contains(again)': False, 'contains(sometimes)': False, 'contains(entertainment)': False, 'contains(cinematic)': False, 'contains(pretty)': False, 'contains(kids)': False, 'contains(point)': False, 'contains(subject)': False, 'contains(last)': False, 'contains(give)': False, \"contains(you'll)\": False, 'contains(special)': False, 'contains(bit)': False, 'contains(making)': False, 'contains(keep)': False, 'contains(whole)': False, 'contains(dull)': False, 'contains(why)': False, 'contains(fascinating)': False, 'contains(cinema)': False, 'contains(together)': False, 'contains(fans)': False, 'contains(anything)': False, 'contains(year)': False, 'contains(away)': False, 'contains(moving)': False, 'contains(-)': False, 'contains(since)': False, 'contains(style)': False, 'contains(need)': False, 'contains(manages)': False, 'contains(star)': False, 'contains(laughs)': False, 'contains(show)': False, 'contains(true)': False, 'contains(sweet)': False, 'contains(history)': False, 'contains(always)': False, 'contains(offers)': False, 'contains(clever)': False, 'contains(experience)': False, 'contains(direction)': False, 'contains(high)': False, 'contains(simply)': False, 'contains(mr)': False, 'contains(silly)': False, 'contains(dark)': False, 'contains(instead)': False, 'contains(charm)': False, 'contains(him)': False, 'contains(care)': False, 'contains(actually)': False, 'contains(whose)': False, 'contains(predictable)': False, 'contains(art)': False, 'contains(visual)': False, 'contains(everything)': False, 'contains(flick)': False, 'contains(nearly)': False, 'contains(around)': False, 'contains(title)': False, 'contains(matter)': False, 'contains(series)': False, 'contains(video)': False, 'contains(place)': False, 'contains(comic)': False, \"contains(he's)\": False, 'contains(idea)': False, 'contains(narrative)': False, 'contains(short)': False, 'contains(goes)': False, 'contains(trying)': False, 'contains(done)': False, 'contains(screenplay)': False, 'contains(war)': False, 'contains(genre)': False, 'contains(now)': False, 'contains(probably)': False, 'contains(women)': False, 'contains(familiar)': False, \"contains(movie's)\": False, 'contains(premise)': False, 'contains(plays)': False, 'contains(under)': False, 'contains(turns)': False, 'contains(horror)': False, 'contains(enjoyable)': False, 'contains(although)': False, 'contains(set)': False, 'contains(lacks)': False, 'contains(home)': False, 'contains(becomes)': False, 'contains(three)': False, 'contains(she)': False, 'contains(engaging)': False, 'contains(filmmakers)': False, 'contains(worst)': False, 'contains(smart)': False, 'contains(feeling)': False, 'contains(feature)': False, 'contains(enjoy)': False, 'contains(effects)': False, \"contains(won't)\": False, 'contains(power)': False, 'contains(intelligent)': False, 'contains(day)': False, 'contains(study)': False, 'contains(half)': False, 'contains(ending)': False, 'contains(strong)': False, 'contains(charming)': False, 'contains(especially)': False, 'contains(amusing)': False, 'contains(effort)': False, 'contains(likely)': False, 'contains(boring)': False, 'contains(debut)': False, 'contains(lack)': False, 'contains(theater)': False, 'contains(john)': False, 'contains(men)': False, 'contains(portrait)': False, 'contains(romance)': False, 'contains(each)': False, 'contains(put)': False, 'contains(else)': False, 'contains(version)': False, 'contains(sort)': False, 'contains(mostly)': False, 'contains(certainly)': False, \"contains(what's)\": False, 'contains(beautiful)': False, \"contains(you've)\": False, 'contains(next)': False, 'contains(problem)': False, 'contains(surprisingly)': False, 'contains(looking)': False, 'contains(easy)': False, 'contains(beautifully)': False, 'contains(level)': False, 'contains(message)': False, 'contains(become)': False, 'contains(rare)': False, 'contains(hours)': False, 'contains(quirky)': False, 'contains(wit)': False, 'contains(play)': False, 'contains(fine)': False, 'contains(mind)': False, 'contains(lives)': False, 'contains(solid)': False, 'contains(exercise)': False, 'contains(along)': False, 'contains(sure)': False, 'contains(looks)': False, 'contains(face)': False, 'contains(whether)': False, 'contains(mess)': False, 'contains(obvious)': False, 'contains(leave)': False, 'contains(directed)': False, 'contains(fresh)': False, 'contains(ideas)': False, 'contains(energy)': False, 'contains(past)': False, 'contains(either)': False, 'contains(french)': False, 'contains(modern)': False, 'contains(interest)': False, 'contains(powerful)': False, 'contains(completely)': False, 'contains(viewers)': False, 'contains(neither)': False, 'contains(dramatic)': False, 'contains(beyond)': False, 'contains(melodrama)': False, 'contains(fact)': False, 'contains(reason)': False, 'contains(shot)': False, 'contains(classic)': False, 'contains(stuff)': False, 'contains(delivers)': False, 'contains(children)': False, 'contains(shows)': False, \"contains(didn't)\": False, 'contains(recent)': False, 'contains(fails)': False, 'contains(tone)': False, 'contains(filmmaking)': False, 'contains(suspense)': False, 'contains(left)': False, \"contains(i'm)\": False, 'contains(intriguing)': False, 'contains(slow)': False, 'contains(culture)': False, 'contains(believe)': False, 'contains(everyone)': False, 'contains(deeply)': False, 'contains(truly)': False, 'contains(serious)': False, 'contains(actor)': False, 'contains(ends)': False, 'contains(himself)': False, 'contains(jokes)': False, 'contains(death)': False, 'contains(black)': False, 'contains(ride)': False, 'contains(tries)': False, 'contains(book)': False, 'contains(sad)': False, 'contains(audiences)': False, 'contains(small)': False, 'contains(production)': False, 'contains(spirit)': False, 'contains(tv)': False, 'contains(occasionally)': False, 'contains(touching)': False, 'contains(light)': False, 'contains(passion)': False, 'contains(satisfying)': False, 'contains(reality)': False, 'contains(dumb)': False, 'contains(storytelling)': False, 'contains(hilarious)': False, 'contains(camera)': False, 'contains(role)': False, 'contains(remains)': False, 'contains(adventure)': False, 'contains(terrific)': False, 'contains(opera)': False, 'contains(exactly)': False, 'contains(formula)': False, 'contains(proves)': False, 'contains(impossible)': False, 'contains(talent)': False, 'contains(must)': False, 'contains(got)': False, 'contains(stories)': False, 'contains(scene)': False, 'contains(images)': False, 'contains(nor)': False, 'contains(different)': False, 'contains(line)': False, 'contains(already)': False, 'contains(filmmaker)': False, 'contains(seeing)': False, 'contains(project)': False, 'contains(simple)': False, 'contains(perfect)': False, 'contains(girl)': False, 'contains(above)': False, 'contains(personal)': False, 'contains(attempt)': False, 'contains(journey)': False, 'contains(easily)': False, 'contains(particularly)': False, 'contains(gags)': False, 'contains(sex)': False, 'contains(summer)': False, 'contains(close)': False, 'contains(pretentious)': False, 'contains(against)': False, 'contains(psychological)': False, 'contains(complex)': False, 'contains(honest)': False, 'contains(animation)': False, 'contains(pleasure)': False, 'contains(given)': False, 'contains(turn)': False, 'contains(flat)': False, 'contains(did)': False, 'contains(intelligence)': False, 'contains(case)': False, 'contains(ways)': False, 'contains(falls)': False, 'contains(earnest)': False, 'contains(michael)': False, 'contains(difficult)': False, 'contains(hour)': False, 'contains(found)': False, 'contains(getting)': False, 'contains(political)': False, 'contains(thought)': False, 'contains(sequel)': False, 'contains(social)': False, 'contains(cliches)': False, 'contains(visually)': False, 'contains(coming-of-age)': False, 'contains(leaves)': False, 'contains(head)': False, 'contains(mystery)': False, 'contains(tell)': False, 'contains(writing)': False, 'contains(violence)': False, 'contains(written)': False, 'contains(none)': False, 'contains(game)': False, 'contains(memorable)': False, 'contains(uses)': False, 'contains(crime)': False, 'contains(que)': False, 'contains(told)': False, 'contains(finally)': False, 'contains(keeps)': False, 'contains(job)': False, 'contains(overall)': False, 'contains(satire)': False, 'contains(brilliant)': False, 'contains(laugh)': False, 'contains(wrong)': False, 'contains(live)': False, 'contains(rich)': False, 'contains(help)': False, 'contains(gone)': False, 'contains(side)': False, 'contains(spy)': False, 'contains(novel)': False, 'contains(lost)': False, 'contains(days)': False, 'contains(second)': False, 'contains(contrived)': False, 'contains(rarely)': False, 'contains(boy)': False, 'contains(otherwise)': False, 'contains(elements)': False, 'contains(barely)': False, 'contains(cool)': False, 'contains(cold)': False, 'contains(needs)': False, 'contains(acted)': False, 'contains(imagine)': False, 'contains(o)': False, 'contains(having)': False, 'contains(guys)': False, 'contains(approach)': False, 'contains(several)': False, 'contains(final)': False, 'contains(taste)': False, 'contains(thoughtful)': False, 'contains(starts)': False, 'contains(appeal)': False, 'contains(possible)': False, 'contains(nature)': False, 'contains(during)': False, 'contains(entirely)': False, 'contains(wonderful)': False, 'contains(wild)': False, 'contains(mood)': False, 'contains(lead)': False, 'contains(insight)': False, 'contains(warm)': False, 'contains(creepy)': False, 'contains(tragedy)': False, 'contains(excellent)': False, 'contains(truth)': False, 'contains(fairly)': False, 'contains(perhaps)': False, 'contains(y)': False, 'contains(soap)': False, 'contains(moral)': False, 'contains(surprising)': False, 'contains(running)': False, 'contains(eyes)': False, 'contains(act)': False, 'contains(concept)': False, 'contains(adults)': False, 'contains(bring)': False, 'contains(others)': False, 'contains(call)': False, 'contains(hero)': False, 'contains(among)': False, 'contains(attention)': False, 'contains(engrossing)': False, 'contains(thoroughly)': False, 'contains(themselves)': False, 'contains(entire)': False, 'contains(david)': False, 'contains(comedies)': False, 'contains(quality)': False, 'contains(expect)': False, 'contains(imagination)': False, 'contains(form)': False, 'contains(remarkable)': False, 'contains(result)': False, 'contains(behind)': False, 'contains(emotionally)': False, 'contains(viewer)': False, \"contains(they're)\": False, 'contains(tedious)': False, 'contains(genuine)': True, \"contains(i've)\": False, 'contains(bland)': False, 'contains(sci-fi)': False, 'contains(epic)': False, 'contains(disney)': False, 'contains(vision)': False, 'contains(quiet)': False, 'contains(rock)': False, 'contains(latest)': False, 'contains(\\x96)': False, 'contains(add)': False, 'contains(remake)': False, 'contains(sharp)': False, 'contains(animated)': False, 'contains(knows)': False, 'contains(usual)': False, 'contains(nice)': False, \"contains(you'd)\": False, 'contains(future)': False, 'contains(strange)': False, 'contains(adaptation)': False, 'contains(teen)': False, 'contains(perfectly)': False, 'contains(change)': False, 'contains(start)': False, 'contains(gorgeous)': False, 'contains(tired)': False, 'contains(moment)': False, 'contains(four)': False, 'contains(witty)': False, 'contains(la)': False, 'contains(points)': False, 'contains(maybe)': False, 'contains(appealing)': False, 'contains(plenty)': False, 'contains(parents)': False, 'contains(dead)': False, 'contains(until)': False, 'contains(taking)': False, 'contains(period)': False, 'contains(impressive)': False, 'contains(gentle)': False, 'contains(depth)': False, 'contains(deep)': False, 'contains(wonder)': False, 'contains(somewhat)': False, 'contains(beauty)': False, 'contains(worse)': False, 'contains(begins)': False, 'contains(offer)': False, 'contains(events)': False, 'contains(merely)': False, 'contains(effective)': False, 'contains(thanks)': False, 'contains(worthy)': False, 'contains(hope)': False, 'contains(someone)': False, 'contains(writer-director)': False, 'contains(captures)': False, \"contains(year's)\": False, 'contains(sit)': False, 'contains(career)': False, 'contains(provides)': False, 'contains(definitely)': False, 'contains(surprise)': False, 'contains(important)': False, 'contains(pure)': False, 'contains(stupid)': False, 'contains(guy)': False, 'contains(age)': False, 'contains(decent)': False, 'contains(straight)': False, 'contains(ambitious)': False, 'contains(woman)': False, 'contains(hit)': False, 'contains(air)': False, 'contains(try)': False, 'contains(awful)': False, 'contains(emotions)': False, 'contains(lots)': False, 'contains(fantasy)': False, 'contains(unfortunately)': False, 'contains(doing)': False, 'contains(however)': False, 'contains(clear)': False, 'contains(pictures)': False, 'contains(ii)': False, 'contains(brings)': False, 'contains(school)': False, 'contains(scary)': False, 'contains(pace)': False, 'contains(able)': False, 'contains(run)': False, 'contains(suffers)': False, 'contains(sequences)': False, 'contains(ugly)': False, 'contains(welcome)': False, 'contains(throughout)': False, 'contains(view)': False, 'contains(highly)': False, 'contains(sound)': False, 'contains(robert)': False, 'contains(exciting)': False, 'contains(inside)': False, 'contains(historical)': False, 'contains(magic)': False, 'contains(subtle)': False, 'contains(thin)': False, 'contains(utterly)': False, 'contains(execution)': False, 'contains(based)': False, 'contains(creative)': False, 'contains(fire)': False, 'contains(alone)': False, 'contains(examination)': False, 'contains(ensemble)': False, 'contains(provocative)': False, 'contains(deserves)': False, 'contains(relationship)': False, 'contains(lovely)': False, 'contains(female)': False, 'contains(read)': False, 'contains(process)': False, 'contains(cheap)': False, 'contains(sexual)': False, 'contains(sustain)': False, 'contains(coming)': False, 'contains(certain)': False, 'contains(used)': False, 'contains(working)': False, 'contains(chemistry)': False, 'contains(question)': False, 'contains(across)': False, 'contains(upon)': False, 'contains(low)': False, 'contains(memory)': False, 'contains(potential)': False, 'contains(hand)': False, 'contains(impact)': False, 'contains(except)': False, 'contains(wants)': False, 'contains(deal)': False, 'contains(playing)': False, 'contains(quickly)': False, 'contains(cartoon)': False, 'contains(delightful)': False, 'contains(city)': False, 'contains(single)': False, 'contains(major)': False, 'contains(use)': False, 'contains(middle)': False, 'contains(cute)': False, 'contains(words)': False, 'contains(tension)': False, 'contains(poignant)': False, 'contains(flaws)': False, 'contains(felt)': False, 'contains(sensitive)': True, 'contains(yes)': False, 'contains(taken)': False, 'contains(touch)': False, 'contains(odd)': False, 'contains(master)': False, 'contains(stand)': False, 'contains(talented)': False, 'contains(cultural)': False, 'contains(waste)': False, 'contains(loud)': False, 'contains(puts)': False, 'contains(rest)': False, 'contains(lacking)': False, 'contains(2)': False, 'contains(generic)': False, 'contains(unfunny)': False, 'contains(bond)': False, 'contains(winning)': False, 'contains(flawed)': False, 'contains(situation)': False, 'contains(sentimental)': False, 'contains(creates)': False, 'contains(murder)': False, 'contains(success)': False, 'contains(force)': False, 'contains(filled)': False, 'contains(actress)': False, 'contains(unexpected)': False, 'contains(mediocre)': False, 'contains(hardly)': False, 'contains(eye)': False, 'contains(ultimate)': False, 'contains(create)': False, 'contains(seriously)': False, 'contains(supposed)': False, 'contains(remember)': False, 'contains(previous)': False, 'contains(mark)': False, 'contains(slight)': False, 'contains(watchable)': False, 'contains(formulaic)': False, 'contains(mildly)': False, 'contains(slightly)': False, 'contains(country)': False, 'contains(cut)': False, 'contains(routine)': False, 'contains(cannot)': False, 'contains(weird)': False, 'contains(ago)': False, 'contains(reveals)': False, 'contains(extremely)': False, 'contains(heavy)': False, 'contains(unsettling)': False, 'contains(house)': False, 'contains(ability)': False, 'contains(sincere)': False, 'contains(class)': False, 'contains(saw)': False, 'contains(relationships)': False, 'contains(melodramatic)': False, 'contains(era)': False, 'contains(surprises)': False, 'contains(hold)': False, 'contains(dog)': False, 'contains(issues)': False, 'contains(giving)': False, 'contains(college)': False, 'contains(convincing)': False, 'contains(apart)': False, 'contains(*)': False, 'contains(hell)': False, 'contains(old-fashioned)': False, 'contains(finds)': False, 'contains(pleasant)': False, 'contains(thrills)': False, 'contains(amount)': False, 'contains(pop)': False, 'contains(sets)': False, 'contains(inventive)': False, 'contains(forgettable)': False, 'contains(mix)': False, 'contains(extreme)': False, 'contains(living)': False, 'contains(steven)': False, 'contains(treat)': False, 'contains(focus)': False, 'contains(leads)': False, 'contains(attempts)': False, 'contains(money)': False, 'contains(intimate)': False, 'contains(artist)': False, 'contains(grace)': False, 'contains(twists)': False, 'contains(gripping)': False, 'contains(plain)': False, 'contains(stylish)': False, 'contains(george)': False, 'contains(fully)': False, 'contains(casting)': False, 'contains(pacing)': False, 'contains(involved)': False, 'contains(terms)': False, 'contains(trouble)': False, 'contains(joke)': False, \"contains(aren't)\": False, 'contains(contemporary)': False, 'contains(five)': False, 'contains(ones)': False, 'contains(episode)': False, 'contains(e)': False, 'contains(succeeds)': False, 'contains(indeed)': False, 'contains(largely)': False, 'contains(stars)': False, 'contains(uneven)': False, 'contains(thinking)': False, 'contains(road)': False, 'contains(crush)': False, 'contains(date)': False, 'contains(course)': False, 'contains(crazy)': False, 'contains(tragic)': False, 'contains(grant)': False, 'contains(presents)': True, 'contains(disturbing)': False, 'contains(themes)': False, 'contains(problems)': False, 'contains(yourself)': False, 'contains(substance)': False, 'contains(goofy)': False, 'contains(appears)': False, 'contains(friendship)': False, 'contains(business)': False, 'contains(williams)': False, 'contains(masterpiece)': False, 'contains(soundtrack)': False, 'contains(colorful)': False, 'contains(happens)': False, \"contains(we've)\": False, 'contains(missing)': False, \"contains(she's)\": False, 'contains(complete)': False, 'contains(runs)': False, 'contains(badly)': False, 'contains(absolutely)': False, 'contains(unique)': False, 'contains(heaven)': False, 'contains(involving)': False, 'contains(es)': False, 'contains(drag)': False, 'contains(successful)': False, 'contains(happy)': False, 'contains(called)': False, 'contains(painful)': False, 'contains(york)': False, 'contains(considerable)': False, 'contains(water)': False, 'contains(couple)': False, 'contains(recommend)': False, 'contains(poetry)': False, 'contains(promise)': False, 'contains(person)': False, 'contains(situations)': False, 'contains(absorbing)': False, 'contains(urban)': False, 'contains(hits)': False, 'contains(somehow)': False, 'contains(terrible)': False, 'contains(pieces)': False, 'contains(tom)': False, 'contains(originality)': False, 'contains(bright)': False, 'contains(typical)': False, 'contains(equally)': False, 'contains(interested)': False, 'contains(bizarre)': False, 'contains(viewing)': False, 'contains(soul)': False, 'contains(target)': False, 'contains(mean)': False, \"contains(couldn't)\": False, 'contains(played)': False, 'contains([a])': False, 'contains(wanted)': False, 'contains(politics)': False, 'contains(triumph)': False, 'contains(strangely)': False, 'contains(effect)': False, 'contains(parts)': False, 'contains(gay)': False, 'contains(refreshing)': False, 'contains(manner)': False, 'contains(loses)': False, 'contains(share)': False, 'contains(oscar)': False, 'contains(blend)': False, 'contains(meditation)': False, 'contains(forced)': False, 'contains(british)': False, 'contains(skin)': False, 'contains(evil)': False, 'contains(forget)': False, \"contains(man's)\": False, 'contains(sentimentality)': False, 'contains(imax)': False, 'contains(flicks)': False, 'contains(report)': False, 'contains(fan)': False, 'contains(doubt)': False, 'contains(setting)': False, 'contains(please)': False, 'contains(haunting)': False, 'contains(well-acted)': False, 'contains(battle)': False, 'contains(average)': False, 'contains(obviously)': False, 'contains(franchise)': False, 'contains(sophisticated)': False, 'contains(grief)': False, 'contains(eventually)': False, 'contains(fast)': False, 'contains(loss)': False, 'contains(word)': False, 'contains(created)': False, 'contains(means)': False, 'contains(poor)': False, 'contains(painfully)': False, 'contains(standard)': False, 'contains(monster)': False, 'contains(virtually)': False, 'contains(lame)': False, 'contains(whatever)': False, 'contains(depressing)': False, 'contains(understand)': False, 'contains(central)': False, 'contains(general)': False, 'contains(tells)': False, 'contains(television)': False, 'contains(crafted)': False, 'contains(company)': False, 'contains(frame)': False, 'contains(clichés)': False, 'contains(twist)': False, 'contains(name)': False, 'contains(dream)': False, 'contains(energetic)': False, 'contains(jackson)': False, 'contains(conflict)': False, 'contains(stunning)': False, 'contains(questions)': False, 'contains(dry)': False, 'contains(derivative)': False, 'contains(night)': False, 'contains(liked)': False, 'contains(fare)': False, 'contains(said)': False, 'contains(90)': False, \"contains(director's)\": False, 'contains(hate)': False, 'contains(sexy)': False, 'contains(el)': False, 'contains(alive)': False, 'contains(miss)': False, 'contains(somewhere)': False, 'contains(remarkably)': False, 'contains(affecting)': False, 'contains(brain)': False, 'contains(edge)': False, 'contains(places)': False, 'contains(sitting)': False, 'contains(riveting)': False, 'contains(amazing)': False, 'contains(generally)': False, 'contains(lets)': False, 'contains(superficial)': False, 'contains(slapstick)': False, 'contains(price)': False, 'contains(lines)': False, 'contains(footage)': False, 'contains(toward)': False, 'contains(genuinely)': False, 'contains(tough)': False, 'contains(ms)': False, 'contains(white)': False, 'contains(clearly)': False, 'contains(niro)': False, 'contains(refreshingly)': False, 'contains(allows)': False, 'contains(holds)': False, 'contains(room)': False, 'contains(boys)': False, 'contains(excitement)': False, 'contains(imaginative)': False, 'contains(possibly)': False, 'contains(essentially)': False, 'contains(finish)': False, 'contains(inspired)': False, 'contains(una)': False, 'contains(popcorn)': False, 'contains(japanese)': False, 'contains(girls)': False, 'contains(heavy-handed)': False, 'contains(deliver)': False, 'contains(weak)': False, 'contains(opportunity)': False, 'contains(wedding)': False, 'contains(break)': False, 'contains(faith)': False, 'contains(conventional)': False, 'contains(let)': False, 'contains(blue)': False, 'contains(atmosphere)': False, 'contains(insightful)': False, 'contains(red)': False, 'contains(vivid)': False, 'contains(worthwhile)': False, 'contains(warmth)': False, 'contains(huge)': False, 'contains(treasure)': False, 'contains(match)': False, 'contains(fat)': False, 'contains(thought-provoking)': False, 'contains(unlike)': False, 'contains(aside)': False, 'contains(spectacle)': False, 'contains(damned)': False, 'contains(peter)': False, 'contains(efforts)': False, 'contains(murphy)': False, \"contains(hasn't)\": False, 'contains(car)': False, 'contains(delicate)': False, 'contains(wait)': False, 'contains(trip)': False, 'contains(intended)': False, 'contains(affair)': False, 'contains(believable)': False, 'contains(wish)': False, 'contains(large)': False, 'contains(america)': False, 'contains(needed)': False, 'contains(balance)': False, 'contains(kid)': False, 'contains(ice)': False, 'contains(lazy)': False, 'contains(crowd)': False, 'contains(heartfelt)': False, 'contains(2002)': False, 'contains(within)': False, 'contains(charisma)': False, 'contains(x)': False, 'contains(particular)': False, 'contains(spielberg)': False, 'contains(minor)': False, 'contains(usually)': False, 'contains(green)': False, 'contains(humanity)': False, 'contains(equivalent)': False, 'contains(treatment)': False, 'contains(fit)': False, 'contains(unusual)': False, 'contains(shallow)': False, 'contains(s)': False, 'contains(simplistic)': False, 'contains(core)': False, 'contains(fiction)': False, 'contains(guilty)': False, 'contains(purpose)': False, 'contains(wildly)': False, 'contains(powers)': False, 'contains(writer)': False, 'contains(filmed)': False, 'contains(slice)': False, 'contains(pay)': False, \"contains(we're)\": False, 'contains(extraordinary)': False, 'contains(motion)': False, 'contains(sea)': False, 'contains(indie)': False, 'contains(quietly)': False, 'contains(open)': False, 'contains(directors)': False, 'contains(score)': False, 'contains(bears)': False, 'contains(festival)': False, 'contains(universal)': False, 'contains(revenge)': False, 'contains(fashion)': False, 'contains(promising)': False, \"contains(wasn't)\": False, 'contains(offering)': False, 'contains(devoid)': False, 'contains(wife)': False, \"contains(wouldn't)\": False, 'contains(empty)': False, 'contains(exhilarating)': False, 'contains(mesmerizing)': False, 'contains(meaning)': False, 'contains(realistic)': False, \"contains(who's)\": False, 'contains(stale)': False, 'contains(credits)': False, 'contains(funnier)': False, 'contains(party)': False, 'contains(sports)': False, 'contains(detail)': False, 'contains(poorly)': False, 'contains(deeper)': False, 'contains(fear)': False, 'contains(figure)': False, 'contains(skill)': False, 'contains(telling)': False, 'contains(combination)': False, 'contains(greatest)': False, 'contains(sounds)': False, 'contains(gangster)': False, 'contains(mindless)': False, 'contains(dreams)': False, 'contains(natural)': False, 'contains(longer)': False, 'contains(directorial)': False, 'contains(ridiculous)': False, 'contains(further)': False, 'contains(vehicle)': False, \"contains(i'd)\": False, 'contains(god)': False, 'contains(spiritual)': False, 'contains(deftly)': False, 'contains(space)': False, 'contains(stay)': False, 'contains(theme)': False, 'contains(talk)': False, 'contains(editing)': False, 'contains(sum)': False, 'contains(sequence)': False, 'contains(delight)': False, 'contains(spectacular)': False, 'contains(decades)': False, 'contains(accessible)': False, 'contains(performers)': False, 'contains(achieves)': False, 'contains(affection)': False, 'contains(pleasures)': False, 'contains(\\x97)': False, 'contains(turned)': False, 'contains(chase)': False, 'contains(development)': False, 'contains(number)': False, 'contains(kevin)': False, 'contains(shots)': False, 'contains(pointless)': False, 'contains(society)': False, 'contains(gem)': False, 'contains(holes)': False, 'contains(exploration)': False, 'contains(represents)': False, 'contains(awkward)': False, 'contains(expected)': False, 'contains(move)': False, 'contains(intense)': False, 'contains(behavior)': False, 'contains(free)': False, 'contains(irritating)': False, 'contains(desire)': False, 'contains(king)': False, 'contains(frequently)': False, 'contains(roger)': False, 'contains(farce)': False, 'contains(values)': False, 'contains(allen)': False, 'contains(consider)': False, 'contains(james)': False, 'contains(crimes)': False, 'contains(shame)': False, 'contains(paced)': False, 'contains(release)': False, 'contains(stunts)': False, 'contains(j)': False, 'contains(win)': False, 'contains(disguise)': False, 'contains(public)': False, 'contains(justice)': False, 'contains(avoid)': False, 'contains(endearing)': False, 'contains(generation)': False, 'contains(talking)': False, 'contains(manipulative)': False, 'contains(profound)': False, 'contains(prove)': False, 'contains(surface)': False, \"contains(haven't)\": False, 'contains(oddly)': False, 'contains(poetic)': False, 'contains(value)': False, 'contains(cinematography)': False, 'contains(visuals)': False, 'contains(members)': False, 'contains(repetitive)': False, 'contains(daring)': False, 'contains(identity)': False, 'contains(perspective)': False, 'contains(constructed)': False, 'contains(count)': False, 'contains(strength)': False, 'contains(overly)': False, 'contains(martin)': False, 'contains(striking)': False, 'contains(provide)': False, 'contains(dreary)': False, 'contains(century)': False, 'contains(sight)': False, 'contains(complicated)': False, 'contains(reading)': False, 'contains(credit)': False, 'contains(results)': False, 'contains(stage)': False, 'contains(blade)': False, 'contains(gross-out)': False, 'contains(10)': False, 'contains(artistic)': True, 'contains(ghost)': False, 'contains(nowhere)': False, 'contains(clumsy)': False, 'contains(ground)': False, 'contains(friday)': False, 'contains(ages)': False, 'contains(songs)': False, 'contains(ring)': False, 'contains(weight)': False, 'contains(frustrating)': False, 'contains(top)': False, 'contains(delivered)': False, 'contains(struggle)': False, 'contains(killer)': False, 'contains(example)': False, 'contains(structure)': False, 'contains(buy)': False, 'contains(screenwriter)': False, 'contains(group)': False, 'contains(musical)': False, 'contains(beat)': False, 'contains(enjoyed)': False, 'contains(overcome)': False, 'contains(follow)': False, 'contains(levels)': False, 'contains(predecessor)': False, 'contains(imagery)': False, 'contains(subjects)': False, 'contains(commercial)': False, 'contains(challenging)': False, 'contains(concerned)': False, 'contains(moviemaking)': False, 'contains(numbers)': False, 'contains(save)': False, 'contains(necessary)': False, 'contains(emerges)': False, 'contains(friends)': False, 'contains(failure)': False, 'contains(unless)': False, 'contains(giant)': False, 'contains(nonsense)': False, 'contains(machine)': False, 'contains(loved)': False, 'contains(waiting)': False, 'contains(brown)': False, 'contains(glimpse)': False, 'contains(community)': False, 'contains(voice)': False, 'contains(pulls)': False, 'contains(diverting)': False, 'contains(incredibly)': False, 'contains(attraction)': False, 'contains(thinks)': False, 'contains(intrigue)': False, 'contains(yarn)': False, 'contains(games)': False, 'contains(bits)': False, \"contains(story's)\": False, 'contains(folks)': False, 'contains(raw)': False, 'contains(nicely)': False, 'contains(shake)': False, 'contains(tiresome)': False, 'contains(hackneyed)': False, 'contains(main)': False, 'contains(adam)': False, 'contains(serves)': False, 'contains(um)': False, 'contains(hot)': False, 'contains(courage)': False, 'contains(chilling)': False, 'contains(beneath)': False, 'contains(marks)': False, 'contains(blood)': False, 'contains(happen)': False, 'contains(offensive)': False, 'contains(presence)': False, 'contains(admirable)': False, 'contains(return)': False, 'contains(walk)': False, 'contains(fears)': False, 'contains(using)': False, 'contains(designed)': False, 'contains(wise)': False, 'contains(determined)': False, 'contains(intentions)': False, 'contains(del)': False, 'contains(tribute)': False, 'contains(stands)': False, 'contains(trifle)': False, 'contains(damn)': False, 'contains(produced)': False, 'contains(chance)': False, 'contains(dazzling)': False, 'contains(roles)': False, 'contains(queen)': False, 'contains(stock)': False, 'contains(wonderfully)': False, 'contains(reach)': False, 'contains(vs)': False, 'contains(creating)': False, 'contains(present)': False, 'contains(emotion)': False, 'contains(eight)': False, 'contains(spend)': False, 'contains(deserve)': False, 'contains(first-time)': False, 'contains(grand)': False, 'contains(industry)': False, 'contains(studio)': False, 'contains(mainstream)': False, 'contains(search)': False, 'contains(apparently)': False, 'contains(mike)': False, 'contains(adolescent)': False, \"contains('the)\": False, 'contains(budget)': False, 'contains(parker)': False, 'contains(sheer)': False, 'contains(scenario)': False, 'contains(surely)': False, 'contains(list)': False, 'contains(standards)': False, 'contains(matters)': False, 'contains(accomplished)': False, 'contains(seat)': False, 'contains(document)': False, 'contains(adult)': False, 'contains(meandering)': False, 'contains(land)': False, 'contains(chris)': False, 'contains(funniest)': False, 'contains(digital)': False, 'contains(overwrought)': False, 'contains(modest)': False, 'contains(talents)': False, 'contains(inspiring)': False, 'contains(type)': False, 'contains(today)': False, 'contains(hip-hop)': False, 'contains(comedic)': False, 'contains(directing)': False, 'contains(humorous)': False, 'contains(outrageous)': False, 'contains(monty)': False, 'contains(damage)': False, 'contains(father)': False, 'contains(dance)': False, 'contains(national)': False, 'contains(grows)': False, 'contains(superior)': False, 'contains(cause)': False, 'contains(wry)': False, 'contains(bunch)': False, 'contains(winds)': False, \"contains(world's)\": False, 'contains(delivery)': False, 'contains(well-made)': False, 'contains(broad)': False, 'contains(tender)': False, 'contains(maudlin)': False, 'contains(fair)': False, 'contains(un)': False, 'contains(disappointing)': False, 'contains(realism)': False, 'contains(excuse)': False, 'contains(vibrant)': False, 'contains(violent)': False, 'contains(moviegoers)': False, 'contains(jones)': False, 'contains(storyline)': False, 'contains(desperate)': False, 'contains(favor)': False, 'contains(unpleasant)': False, 'contains(bittersweet)': False, 'bigram(. .)': False, 'bigram(. the)': False, 'bigram(. a)': False, 'bigram(of the)': False, 'bigram(, but)': False, 'bigram(, and)': False, 'bigram(in the)': False, 'bigram(the film)': False, 'bigram(is a)': False, \"bigram(. it's)\": False, 'bigram(, the)': False, 'bigram(of a)': False, 'bigram(to the)': False, 'bigram(and the)': False, 'bigram(to be)': False, 'bigram(the movie)': False, 'bigram(. it)': False, 'bigram(. this)': False, 'bigram(for the)': False, 'bigram(it is)': False, 'bigram(. an)': False, 'bigram(with a)': False, 'bigram(as a)': False, 'bigram(in a)': False, 'bigram(on the)': False, 'bigram(one of)': False, 'bigram(and a)': False, 'bigram(this is)': False, 'bigram(a movie)': False, \"bigram(it's a)\": False, 'bigram(, it)': False, 'bigram(. if)': False, 'bigram(with the)': False, 'bigram(film is)': False, 'bigram(like a)': False, 'bigram(, a)': False, 'bigram(for a)': False, 'bigram(it .)': False, 'bigram(the most)': False, 'bigram(. but)': False, 'bigram(but it)': False, 'bigram(film .)': False, 'bigram(of its)': False, 'bigram(movie .)': False, \"bigram(, it's)\": False, 'bigram(, this)': False, 'bigram(a film)': False, 'bigram(as the)': False, 'bigram(from the)': False, 'bigram(. i)': False, 'bigram(at the)': False, 'bigram(all the)': False, 'bigram(by the)': False, 'bigram(movie is)': False, 'bigram(but the)': False, 'bigram(in its)': False, 'bigram(is the)': False, 'bigram(more than)': False, 'bigram(kind of)': False, 'bigram(. as)': False, 'bigram(that is)': False, 'bigram(about the)': False, 'bigram(, with)': False, 'bigram(film that)': False, 'bigram(movie ,)': False, 'bigram(film ,)': False, \"bigram(the film's)\": False, 'bigram(the story)': False, 'bigram(to a)': False, 'bigram(this movie)': False, 'bigram(has a)': False, 'bigram(have been)': False, 'bigram(movie that)': False, 'bigram(that it)': False, 'bigram(to make)': False, 'bigram(that the)': False, 'bigram(into the)': False, 'bigram(out of)': False, 'bigram(. what)': False, 'bigram(in this)': False, 'bigram(the best)': False, 'bigram(, as)': False, 'bigram(. in)': False, 'bigram(as it)': False, 'bigram(. one)': False, 'bigram(a good)': False, 'bigram(, is)': False, \"bigram(. ')\": False, \"bigram(. there's)\": False, \"bigram(but it's)\": False, 'bigram(. \")': False, 'bigram(. while)': False, 'bigram(if you)': False, 'bigram(its own)': False, 'bigram(sense of)': False, 'bigram(this film)': False, 'bigram(. there)': False, 'bigram(the same)': False, 'bigram(enough to)': False, 'bigram(is an)': False, 'bigram(be a)': False, 'bigram(into a)': False, 'bigram(is that)': False, 'bigram(to see)': False, 'bigram(a lot)': False, 'bigram(is so)': False, 'bigram(is not)': False, 'bigram(, which)': False, 'bigram(-- and)': False, 'bigram(. for)': False, 'bigram(, in)': False, 'bigram(. like)': False, 'bigram(comedy .)': False, 'bigram(than a)': False, 'bigram(the first)': False, 'bigram(time .)': False, 'bigram(. you)': False, 'bigram(a few)': False, 'bigram(look at)': False, 'bigram(a little)': False, 'bigram(on a)': False, 'bigram(the characters)': False, 'bigram(the end)': False, 'bigram(of this)': False, 'bigram(. and)': False, 'bigram(from a)': False, 'bigram(of an)': False, 'bigram(than the)': False, 'bigram(. with)': False, 'bigram(may be)': False, 'bigram(the way)': False, 'bigram(, you)': False, 'bigram(there is)': False, 'bigram(funny ,)': False, \"bigram(it's not)\": False, 'bigram(story .)': False, 'bigram(. not)': False, 'bigram(a great)': False, 'bigram(and ,)': False, 'bigram(by a)': False, 'bigram(of his)': False, 'bigram(. even)': False, 'bigram(mr .)': False, 'bigram(not a)': False, 'bigram(the kind)': False, 'bigram(you can)': False, 'bigram(, i)': False, 'bigram(there are)': False, 'bigram(hard to)': False, 'bigram(like the)': False, 'bigram(so much)': False, 'bigram(to watch)': False, 'bigram(. though)': False, 'bigram(most of)': False, 'bigram(them .)': False, 'bigram(, even)': False, 'bigram(, if)': False, 'bigram(is one)': False, 'bigram(, who)': False, 'bigram(about a)': False, 'bigram(manages to)': False, 'bigram(of those)': False, 'bigram(would be)': False, 'bigram(for its)': False, 'bigram(romantic comedy)': False, 'bigram(want to)': False, 'bigram(and his)': False, 'bigram(such a)': False, 'bigram(the audience)': False, 'bigram(, or)': False, 'bigram(at least)': False, 'bigram(to have)': False, 'bigram(work .)': False, 'bigram(, not)': False, 'bigram(. despite)': False, 'bigram(a very)': False, 'bigram(could have)': False, 'bigram(much of)': False, 'bigram(it ,)': False, 'bigram(it has)': False, 'bigram(story ,)': False, 'bigram(with an)': False, 'bigram(as an)': False, 'bigram(have a)': False, 'bigram(in which)': False, 'bigram(that ,)': False, 'bigram(the plot)': False, 'bigram(through the)': False, 'bigram(trying to)': False, 'bigram(full of)': False, 'bigram(if the)': False, 'bigram(some of)': False, 'bigram(to get)': False, 'bigram(as if)': False, 'bigram(in his)': False, \"bigram(the movie's)\": False, 'bigram(with its)': False, 'bigram(and its)': False, 'bigram(. is)': False, 'bigram(characters .)': False, \"bigram(if you're)\": False, 'bigram(of it)': False, 'bigram(should be)': False, 'bigram(will be)': False, 'bigram(and an)': False, 'bigram(can be)': False, 'bigram(is ,)': False, \"bigram(it doesn't)\": False, 'bigram(lot of)': False, 'bigram(one .)': False, 'bigram(seems to)': False, 'bigram(up to)': False, 'bigram(. at)': False, 'bigram(if it)': False, 'bigram(on its)': False, \"bigram(that it's)\": False, 'bigram(too much)': False, 'bigram(would have)': False, 'bigram(. just)': False, 'bigram(. too)': False, 'bigram(life .)': False, 'bigram(portrait of)': False, 'bigram(sort of)': False, 'bigram(the only)': False, 'bigram(a bad)': False, 'bigram(a story)': False, 'bigram(as well)': False, 'bigram(characters ,)': False, 'bigram(piece of)': False, 'bigram(, \")': False, 'bigram(, so)': False, 'bigram(, though)': False, 'bigram(a bit)': False, 'bigram(this one)': False, 'bigram(. its)': False, 'bigram(of all)': False, 'bigram(rather than)': False, 'bigram(the whole)': False, 'bigram(when it)': False, 'bigram(\" is)': False, 'bigram(, that)': False, 'bigram(at times)': False, 'bigram(be the)': False, 'bigram(drama .)': False, 'bigram(has the)': False, 'bigram(it was)': False, 'bigram(lack of)': False, 'bigram(not only)': False, 'bigram(funny .)': False, \"bigram(it's the)\": False, 'bigram(to say)': False, 'bigram(, like)': False, 'bigram(. has)': False, 'bigram(. no)': False, 'bigram(and it)': False, 'bigram(even if)': False, 'bigram(for all)': False, 'bigram(has been)': False, 'bigram(is just)': False, 'bigram(the script)': False, 'bigram(to do)': False, 'bigram(. all)': False, 'bigram(. although)': False, 'bigram(at a)': False, 'bigram(end ,)': False, 'bigram(film about)': False, 'bigram(have to)': False, 'bigram(in an)': False, 'bigram(the big)': False, 'bigram(the original)': False, 'bigram(the year)': False, \"bigram(there's no)\": False, 'bigram(to keep)': False, 'bigram(at its)': False, 'bigram(fun .)': False, 'bigram(it all)': False, 'bigram(it would)': False, 'bigram(just a)': False, 'bigram(tale of)': False, 'bigram(that makes)': False, 'bigram(the screen)': False, 'bigram(way .)': False, 'bigram(while the)': False, 'bigram() ,)': False, 'bigram(. director)': False, 'bigram(. so)': False, 'bigram(feels like)': False, 'bigram(is more)': False, 'bigram(it does)': False, 'bigram(that you)': False, 'bigram(the worst)': False, 'bigram(, no)': False, 'bigram(, one)': False, 'bigram(. when)': False, \"bigram(and it's)\": False, 'bigram(going to)': False, 'bigram(is as)': False, 'bigram(over the)': False, 'bigram(the last)': False, 'bigram(comedy that)': False, 'bigram(instead of)': False, 'bigram(may not)': False, 'bigram(screen .)': False, 'bigram(the performances)': False, 'bigram(those who)': False, 'bigram(to find)': False, 'bigram(to its)': False, 'bigram(\" the)': False, 'bigram(, at)': False, 'bigram(, its)': False, 'bigram(, then)': False, 'bigram(-- but)': False, 'bigram(. that)': False, 'bigram(but not)': False, 'bigram(funny and)': False, 'bigram(not to)': False, 'bigram(that will)': False, 'bigram(the picture)': False, 'bigram(the right)': False, 'bigram(the time)': False, 'bigram(year .)': False, 'bigram(, an)': False, 'bigram(all of)': False, 'bigram(and even)': False, 'bigram(be .)': False, 'bigram(better than)': False, 'bigram(documentary .)': False, 'bigram(is .)': False, 'bigram(is in)': False, 'bigram(it may)': False, 'bigram(the cast)': False, 'bigram(too many)': False, 'bigram(way to)': False, 'bigram(which is)': False, 'bigram(( and)': False, 'bigram(, to)': False, 'bigram(, too)': False, 'bigram(a fascinating)': False, 'bigram(a long)': False, 'bigram(but a)': False, 'bigram(film with)': False, 'bigram(humor .)': False, 'bigram(might have)': False, 'bigram(story is)': False, 'bigram(the filmmakers)': False, 'bigram(the theater)': False, 'bigram(time ,)': False, 'bigram(when the)': False, 'bigram(, while)': False, 'bigram(a new)': False, 'bigram(all its)': False, 'bigram(and more)': False, 'bigram(and not)': False, 'bigram(audience .)': False, 'bigram(is to)': False, 'bigram(is too)': False, 'bigram(makes the)': False, \"bigram(there's a)\": False, 'bigram(to take)': False, 'bigram(version of)': False, 'bigram(what is)': False, 'bigram(. by)': False, 'bigram(. some)': False, 'bigram(as much)': False, 'bigram(by its)': False, 'bigram(characters and)': False, 'bigram(comedy ,)': False, 'bigram(fails to)': False, \"bigram(it's hard)\": False, 'bigram(make a)': False, 'bigram(make it)': False, 'bigram(movie with)': False, 'bigram(of their)': False, 'bigram(off the)': False, 'bigram(plays like)': False, 'bigram(should have)': False, 'bigram(the director)': False, 'bigram(work of)': False, 'bigram(, for)': False, 'bigram(, we)': False, 'bigram(a real)': False, 'bigram(but this)': False, 'bigram(exercise in)': False, 'bigram(people who)': False, 'bigram(performances .)': False, 'bigram(the fact)': False, 'bigram(the other)': False, 'bigram(the world)': False, 'bigram(well as)': False, 'bigram(, more)': False, 'bigram(-- the)': False, 'bigram(a big)': False, 'bigram(and then)': False, 'bigram(because it)': False, 'bigram(film has)': False, 'bigram(of these)': False, 'bigram(out to)': False, 'bigram(part of)': False, 'bigram(special effects)': False, 'bigram(than it)': False, 'bigram(the more)': False, 'bigram(the very)': False, 'bigram(times ,)': False, 'bigram(, especially)': False, 'bigram(. more)': False, 'bigram(a way)': False, 'bigram(about as)': False, 'bigram(but also)': False, 'bigram(characters are)': False, 'bigram(despite its)': False, 'bigram(even the)': False, 'bigram(far more)': False, 'bigram(good ,)': False, 'bigram(here .)': False, 'bigram(it a)': False, \"bigram(it's also)\": False, \"bigram(it's just)\": False, 'bigram(just as)': False, 'bigram(might be)': False, 'bigram(none of)': False, 'bigram(of what)': False, 'bigram(see it)': False, 'bigram(story and)': False, 'bigram(subject matter)': False, 'bigram(thriller .)': False, 'bigram(you have)': False, \"bigram(, ')\": False, 'bigram(-- a)': False, 'bigram(. nothing)': False, 'bigram(. to)': False, 'bigram(. we)': False, 'bigram(a more)': False, 'bigram(fact that)': False, 'bigram(film of)': False, 'bigram(here ,)': False, 'bigram(his own)': False, 'bigram(is about)': False, 'bigram(it makes)': False, 'bigram(it to)': False, \"bigram(it's an)\": False, 'bigram(minutes .)': False, 'bigram(moments of)': False, \"bigram(that doesn't)\": False, 'bigram(that has)': False, 'bigram(the actors)': False, 'bigram(tries to)': False, 'bigram(way ,)': False, 'bigram(what it)': False, 'bigram(a comedy)': False, 'bigram(able to)': False, 'bigram(all .)': False, 'bigram(and that)': False, 'bigram(entertainment .)': False, 'bigram(films .)': False, 'bigram(how to)': False, 'bigram(like this)': False, 'bigram(lots of)': False, 'bigram(make the)': False, 'bigram(makes it)': False, 'bigram(movies ,)': False, 'bigram(movies .)': False, 'bigram(much more)': False, 'bigram(not be)': False, 'bigram(one that)': False, 'bigram(out the)': False, 'bigram(performances ,)': False, 'bigram(series of)': False, 'bigram(that are)': False, 'bigram(to give)': False, 'bigram(up .)': False, 'bigram(up in)': False, 'bigram(way of)': False, 'bigram(work ,)': False, 'bigram(you might)': False, 'bigram(, yet)': False, \"bigram(, you'll)\": False, 'bigram(a compelling)': False, 'bigram(and in)': False, 'bigram(as its)': False, 'bigram(care about)': False, 'bigram(each other)': False, 'bigram(examination of)': False, 'bigram(for this)': False, 'bigram(heart .)': False, 'bigram(humor and)': False, 'bigram(in all)': False, 'bigram(likely to)': False, 'bigram(little more)': False, 'bigram(long ,)': False, 'bigram(looking for)': False, 'bigram(of love)': False, 'bigram(of movie)': False, 'bigram(or the)': False, 'bigram(so many)': False, 'bigram(story of)': False, 'bigram(story that)': False, 'bigram(that this)': False, 'bigram(the material)': False, 'bigram(the title)': False, 'bigram(to go)': False}\n"
     ]
    }
   ],
   "source": [
    "# use this function to create feature sets for all sentences\n",
    "bigram_featuresets = [(bigram_document_features(d, word_features, bigram_features), c) for (d, c) in documents]\n",
    "\n",
    "# number of features for document 0\n",
    "print(len(bigram_featuresets[0][0].keys()))\n",
    "\n",
    "# features in document 0\n",
    "print(bigram_featuresets[0][0])"
   ]
  },
  {
   "cell_type": "code",
   "execution_count": 26,
   "metadata": {},
   "outputs": [
    {
     "data": {
      "text/plain": [
       "0.756"
      ]
     },
     "execution_count": 26,
     "metadata": {},
     "output_type": "execute_result"
    }
   ],
   "source": [
    "# train a classifier and report accuracy\n",
    "train_set, test_set = bigram_featuresets[1000:], bigram_featuresets[:1000]\n",
    "classifier = nltk.NaiveBayesClassifier.train(train_set)\n",
    "nltk.classify.accuracy(classifier, test_set)"
   ]
  },
  {
   "cell_type": "code",
   "execution_count": 27,
   "metadata": {},
   "outputs": [
    {
     "name": "stdout",
     "output_type": "stream",
     "text": [
      "['Arthur', 'carefully', 'rode', 'the', 'brown', 'horse', 'around', 'the', 'castle']\n",
      "[('Arthur', 'NNP'), ('carefully', 'RB'), ('rode', 'VBD'), ('the', 'DT'), ('brown', 'JJ'), ('horse', 'NN'), ('around', 'IN'), ('the', 'DT'), ('castle', 'NN')]\n"
     ]
    }
   ],
   "source": [
    "###  POS tag counts\n",
    "# using the default pos tagger in NLTK (the Stanford tagger)\n",
    "print(sent)\n",
    "print(nltk.pos_tag(sent))"
   ]
  },
  {
   "cell_type": "code",
   "execution_count": 28,
   "metadata": {
    "collapsed": true
   },
   "outputs": [],
   "source": [
    "# this function takes a document list of words and returns a feature dictionary\n",
    "# it runs the default pos tagger (the Stanford tagger) on the document\n",
    "#   and counts 4 types of pos tags to use as features\n",
    "def POS_features(document, word_features):\n",
    "    document_words = set(document)\n",
    "    tagged_words = nltk.pos_tag(document)\n",
    "    features = {}\n",
    "    for word in word_features:\n",
    "        features['contains({})'.format(word)] = (word in document_words)\n",
    "    numNoun = 0\n",
    "    numVerb = 0\n",
    "    numAdj = 0\n",
    "    numAdverb = 0\n",
    "    for (word, tag) in tagged_words:\n",
    "        if tag.startswith('N'): numNoun += 1\n",
    "        if tag.startswith('V'): numVerb += 1\n",
    "        if tag.startswith('J'): numAdj += 1\n",
    "        if tag.startswith('R'): numAdverb += 1\n",
    "    features['nouns'] = numNoun\n",
    "    features['verbs'] = numVerb\n",
    "    features['adjectives'] = numAdj\n",
    "    features['adverbs'] = numAdverb\n",
    "    return features"
   ]
  },
  {
   "cell_type": "code",
   "execution_count": 29,
   "metadata": {},
   "outputs": [
    {
     "name": "stdout",
     "output_type": "stream",
     "text": [
      "1504\n"
     ]
    }
   ],
   "source": [
    "# define feature sets using this function\n",
    "POS_featuresets = [(POS_features(d, word_features), c) for (d, c) in documents]\n",
    "# number of features for document 0\n",
    "print(len(POS_featuresets[0][0].keys()))"
   ]
  },
  {
   "cell_type": "code",
   "execution_count": 30,
   "metadata": {},
   "outputs": [
    {
     "name": "stdout",
     "output_type": "stream",
     "text": [
      "(['nervy', 'and', 'sensitive', ',', 'it', 'taps', 'into', 'genuine', 'artistic', 'befuddlement', ',', 'and', 'at', 'the', 'same', 'time', 'presents', 'a', 'scathing', 'indictment', 'of', 'what', 'drives', 'hollywood', '.'], 'pos')\n",
      "num nouns 5\n",
      "num verbs 3\n",
      "num adjectives 5\n",
      "num adverbs 0\n"
     ]
    }
   ],
   "source": [
    "# the first sentence\n",
    "print(documents[0])\n",
    "# the pos tag features for this sentence\n",
    "print('num nouns', POS_featuresets[0][0]['nouns'])\n",
    "print('num verbs', POS_featuresets[0][0]['verbs'])\n",
    "print('num adjectives', POS_featuresets[0][0]['adjectives'])\n",
    "print('num adverbs', POS_featuresets[0][0]['adverbs'])"
   ]
  },
  {
   "cell_type": "code",
   "execution_count": 31,
   "metadata": {},
   "outputs": [
    {
     "data": {
      "text/plain": [
       "0.753"
      ]
     },
     "execution_count": 31,
     "metadata": {},
     "output_type": "execute_result"
    }
   ],
   "source": [
    "# train and test the classifier\n",
    "train_set, test_set = POS_featuresets[1000:], POS_featuresets[:1000]\n",
    "classifier = nltk.NaiveBayesClassifier.train(train_set)\n",
    "nltk.classify.accuracy(classifier, test_set)"
   ]
  },
  {
   "cell_type": "code",
   "execution_count": 32,
   "metadata": {
    "collapsed": true
   },
   "outputs": [],
   "source": [
    "## cross-validation ##\n",
    "# this function takes the number of folds, the feature sets\n",
    "# it iterates over the folds, using different sections for training and testing in turn\n",
    "#   it prints the accuracy for each fold and the average accuracy at the end\n",
    "def cross_validation_accuracy(num_folds, featuresets):\n",
    "    subset_size = int(len(featuresets)/num_folds)\n",
    "    accuracy_list = []\n",
    "    # iterate over the folds\n",
    "    for i in range(num_folds):\n",
    "        test_this_round = featuresets[(i*subset_size):][:subset_size]\n",
    "        train_this_round = featuresets[:(i*subset_size)] + featuresets[((i+1)*subset_size):]\n",
    "        # train using train_this_round\n",
    "        classifier = nltk.NaiveBayesClassifier.train(train_this_round)\n",
    "        # evaluate against test_this_round and save accuracy\n",
    "        accuracy_this_round = nltk.classify.accuracy(classifier, test_this_round)\n",
    "        print (i, accuracy_this_round)\n",
    "        accuracy_list.append(accuracy_this_round)\n",
    "    # find mean accuracy over all rounds\n",
    "    print ('mean accuracy', sum(accuracy_list) / num_folds)"
   ]
  },
  {
   "cell_type": "code",
   "execution_count": 33,
   "metadata": {},
   "outputs": [
    {
     "name": "stdout",
     "output_type": "stream",
     "text": [
      "0 0.7415572232645403\n",
      "1 0.7471857410881801\n",
      "2 0.7453095684803002\n",
      "3 0.7429643527204502\n",
      "4 0.7209193245778611\n",
      "mean accuracy 0.7395872420262665\n"
     ]
    }
   ],
   "source": [
    "# perform the cross-validation on the featuresets with word features and generate accuracy\n",
    "num_folds = 5\n",
    "cross_validation_accuracy(num_folds, featuresets)"
   ]
  },
  {
   "cell_type": "code",
   "execution_count": 34,
   "metadata": {},
   "outputs": [
    {
     "name": "stdout",
     "output_type": "stream",
     "text": [
      "0 0.7415572232645403\n",
      "1 0.7467166979362101\n",
      "2 0.7443714821763602\n",
      "3 0.7424953095684803\n",
      "4 0.7209193245778611\n",
      "mean accuracy 0.7392120075046904\n"
     ]
    }
   ],
   "source": [
    "# perform the cross-validation on the featuresets with word features and generate accuracy\n",
    "num_folds1 = 5\n",
    "cross_validation_accuracy(num_folds1, bigram_featuresets)"
   ]
  },
  {
   "cell_type": "code",
   "execution_count": 35,
   "metadata": {},
   "outputs": [
    {
     "name": "stdout",
     "output_type": "stream",
     "text": [
      "0 0.7485928705440901\n",
      "1 0.724202626641651\n",
      "2 0.7457786116322702\n",
      "3 0.7542213883677298\n",
      "4 0.7382739212007504\n",
      "5 0.7551594746716698\n",
      "6 0.724202626641651\n",
      "7 0.7560975609756098\n",
      "8 0.7082551594746717\n",
      "9 0.7354596622889306\n",
      "mean accuracy 0.7390243902439024\n"
     ]
    }
   ],
   "source": [
    "num_folds2 = 10\n",
    "cross_validation_accuracy(num_folds2, bigram_featuresets)"
   ]
  },
  {
   "cell_type": "code",
   "execution_count": 36,
   "metadata": {},
   "outputs": [
    {
     "name": "stdout",
     "output_type": "stream",
     "text": [
      "0 0.7504690431519699\n",
      "1 0.7176360225140713\n",
      "2 0.7485928705440901\n",
      "3 0.7495309568480301\n",
      "4 0.7354596622889306\n",
      "5 0.7542213883677298\n",
      "6 0.7185741088180112\n",
      "7 0.7532833020637899\n",
      "8 0.7101313320825516\n",
      "9 0.725140712945591\n",
      "mean accuracy 0.7363039399624765\n"
     ]
    }
   ],
   "source": [
    "num_folds3 = 5\n",
    "cross_validation_accuracy(num_folds2, POS_featuresets)"
   ]
  },
  {
   "cell_type": "code",
   "execution_count": 37,
   "metadata": {},
   "outputs": [
    {
     "name": "stdout",
     "output_type": "stream",
     "text": [
      "0 0.7420262664165104\n",
      "1 0.7415572232645403\n",
      "2 0.7368667917448405\n",
      "3 0.7387429643527205\n",
      "4 0.725609756097561\n",
      "mean accuracy 0.7369606003752345\n"
     ]
    }
   ],
   "source": [
    "num_folds4 = 5\n",
    "cross_validation_accuracy(num_folds, POS_featuresets)"
   ]
  },
  {
   "cell_type": "code",
   "execution_count": 38,
   "metadata": {},
   "outputs": [
    {
     "name": "stdout",
     "output_type": "stream",
     "text": [
      "0 0.7495309568480301\n",
      "1 0.723264540337711\n",
      "2 0.7467166979362101\n",
      "3 0.7551594746716698\n",
      "4 0.7363977485928705\n",
      "5 0.7551594746716698\n",
      "6 0.724202626641651\n",
      "7 0.7551594746716698\n",
      "8 0.7082551594746717\n",
      "9 0.7354596622889306\n",
      "mean accuracy 0.7389305816135086\n"
     ]
    }
   ],
   "source": [
    "# perform the cross-validation on the featuresets with word features and generate accuracy\n",
    "num_folds5 = 10\n",
    "cross_validation_accuracy(num_folds5, featuresets)"
   ]
  },
  {
   "cell_type": "code",
   "execution_count": null,
   "metadata": {
    "collapsed": true
   },
   "outputs": [],
   "source": []
  }
 ],
 "metadata": {
  "kernelspec": {
   "display_name": "Python 3",
   "language": "python",
   "name": "python3"
  },
  "language_info": {
   "codemirror_mode": {
    "name": "ipython",
    "version": 3
   },
   "file_extension": ".py",
   "mimetype": "text/x-python",
   "name": "python",
   "nbconvert_exporter": "python",
   "pygments_lexer": "ipython3",
   "version": "3.6.5"
  }
 },
 "nbformat": 4,
 "nbformat_minor": 2
}
